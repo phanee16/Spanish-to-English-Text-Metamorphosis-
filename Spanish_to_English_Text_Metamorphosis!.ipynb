{
  "nbformat": 4,
  "nbformat_minor": 0,
  "metadata": {
    "colab": {
      "provenance": [],
      "authorship_tag": "ABX9TyOtO1YEAoyMiovm/wxtHPI+",
      "include_colab_link": true
    },
    "kernelspec": {
      "name": "python3",
      "display_name": "Python 3"
    },
    "language_info": {
      "name": "python"
    }
  },
  "cells": [
    {
      "cell_type": "markdown",
      "metadata": {
        "id": "view-in-github",
        "colab_type": "text"
      },
      "source": [
        "<a href=\"https://colab.research.google.com/github/phanee16/Spanish-to-English-Text-Metamorphosis-/blob/main/Spanish_to_English_Text_Metamorphosis!.ipynb\" target=\"_parent\"><img src=\"https://colab.research.google.com/assets/colab-badge.svg\" alt=\"Open In Colab\"/></a>"
      ]
    },
    {
      "cell_type": "markdown",
      "source": [
        "### Install the required packages"
      ],
      "metadata": {
        "id": "WRZti0zMhJGk"
      }
    },
    {
      "cell_type": "code",
      "execution_count": null,
      "metadata": {
        "id": "uaOLtgFbDZkd"
      },
      "outputs": [],
      "source": [
        "# !pip install transformers\n",
        "# !pip install gradio\n",
        "# !pip install sentencepiece\n",
        "#uncomment the above if you haven't installed the packages"
      ]
    },
    {
      "cell_type": "markdown",
      "source": [
        "### Text Metamorphosis"
      ],
      "metadata": {
        "id": "fBIORlpohQF9"
      }
    },
    {
      "cell_type": "code",
      "source": [
        "# Import the required libraries\n",
        "import torch\n",
        "from transformers import pipeline\n",
        "\n",
        "# Load the translation, summarization, and sentiment analysis models from Hugging Face\n",
        "translation_model = \"Helsinki-NLP/opus-mt-es-en\"  # Spanish to English\n",
        "translator = pipeline(task=\"translation\", model=translation_model)\n",
        "\n",
        "summarization_model = \"facebook/bart-large-cnn\"  # Pretrained summarization model\n",
        "summarizer = pipeline(task=\"summarization\", model=summarization_model)\n",
        "\n",
        "sentiment_model = \"nlptown/bert-base-multilingual-uncased-sentiment\"\n",
        "sentiment_analyzer = pipeline(task=\"sentiment-analysis\", model=sentiment_model)\n",
        "\n",
        "# Function to translate, summarize, and analyze sentiment\n",
        "def translate_summarize_analyze_sentiment(text):\n",
        "    # Translate text from Spanish to English\n",
        "    translated_text = translator(text, max_length=500)[0]['translation_text']\n",
        "\n",
        "    # Summarize the translated text\n",
        "    summarized_text = summarizer(translated_text, max_length=150, min_length=50, do_sample=False)[0]['summary_text']\n",
        "\n",
        "    # Analyze sentiment of the summarized text\n",
        "    sentiment = sentiment_analyzer(summarized_text)[0]\n",
        "    label = sentiment['label']\n",
        "    score = sentiment['score']\n",
        "\n",
        "    return translated_text, summarized_text, label, score\n",
        "\n",
        "# Define the Gradio interface\n",
        "import gradio as gr\n",
        "\n",
        "iface = gr.Interface(\n",
        "    fn=translate_summarize_analyze_sentiment,\n",
        "    inputs=gr.inputs.Textbox(placeholder=\"Enter text in Spanish\"),\n",
        "    outputs=[\n",
        "        gr.outputs.Textbox(label=\"Translated Text (English)\"),\n",
        "        gr.outputs.Textbox(label=\"Summarized Text\"),\n",
        "        gr.outputs.Textbox(label=\"Sentiment Label\"),\n",
        "        gr.outputs.Textbox(label=\"Sentiment Score\")\n",
        "    ],\n",
        "    live=True,\n",
        "    capture_session=True\n",
        ")\n",
        "\n",
        "# Launch the Gradio interface\n",
        "iface.launch()\n"
      ],
      "metadata": {
        "colab": {
          "base_uri": "https://localhost:8080/",
          "height": 977
        },
        "id": "MnphHjt8d3sP",
        "outputId": "f8f7cc9f-0e0e-4c96-9d47-94c97cdbc5cc"
      },
      "execution_count": null,
      "outputs": [
        {
          "output_type": "stream",
          "name": "stderr",
          "text": [
            "No CUDA runtime is found, using CUDA_HOME='/usr/local/cuda'\n",
            "Xformers is not installed correctly. If you want to use memory_efficient_attention to accelerate training use the following command to install Xformers\n",
            "pip install xformers.\n",
            "<ipython-input-2-11819524c749>:35: GradioDeprecationWarning: Usage of gradio.inputs is deprecated, and will not be supported in the future, please import your component from gradio.components\n",
            "  inputs=gr.inputs.Textbox(placeholder=\"Enter text in Spanish\"),\n",
            "<ipython-input-2-11819524c749>:35: GradioDeprecationWarning: `optional` parameter is deprecated, and it has no effect\n",
            "  inputs=gr.inputs.Textbox(placeholder=\"Enter text in Spanish\"),\n",
            "<ipython-input-2-11819524c749>:35: GradioDeprecationWarning: `numeric` parameter is deprecated, and it has no effect\n",
            "  inputs=gr.inputs.Textbox(placeholder=\"Enter text in Spanish\"),\n",
            "<ipython-input-2-11819524c749>:37: GradioDeprecationWarning: Usage of gradio.outputs is deprecated, and will not be supported in the future, please import your components from gradio.components\n",
            "  gr.outputs.Textbox(label=\"Translated Text (English)\"),\n",
            "<ipython-input-2-11819524c749>:38: GradioDeprecationWarning: Usage of gradio.outputs is deprecated, and will not be supported in the future, please import your components from gradio.components\n",
            "  gr.outputs.Textbox(label=\"Summarized Text\"),\n",
            "<ipython-input-2-11819524c749>:39: GradioDeprecationWarning: Usage of gradio.outputs is deprecated, and will not be supported in the future, please import your components from gradio.components\n",
            "  gr.outputs.Textbox(label=\"Sentiment Label\"),\n",
            "<ipython-input-2-11819524c749>:40: GradioDeprecationWarning: Usage of gradio.outputs is deprecated, and will not be supported in the future, please import your components from gradio.components\n",
            "  gr.outputs.Textbox(label=\"Sentiment Score\")\n",
            "<ipython-input-2-11819524c749>:33: GradioDeprecationWarning: `capture_session` parameter is deprecated, and it has no effect\n",
            "  iface = gr.Interface(\n"
          ]
        },
        {
          "output_type": "stream",
          "name": "stdout",
          "text": [
            "Colab notebook detected. To show errors in colab notebook, set debug=True in launch()\n",
            "Note: opening Chrome Inspector may crash demo inside Colab notebooks.\n",
            "\n",
            "To create a public link, set `share=True` in `launch()`.\n"
          ]
        },
        {
          "output_type": "display_data",
          "data": {
            "text/plain": [
              "<IPython.core.display.Javascript object>"
            ],
            "application/javascript": [
              "(async (port, path, width, height, cache, element) => {\n",
              "                        if (!google.colab.kernel.accessAllowed && !cache) {\n",
              "                            return;\n",
              "                        }\n",
              "                        element.appendChild(document.createTextNode(''));\n",
              "                        const url = await google.colab.kernel.proxyPort(port, {cache});\n",
              "\n",
              "                        const external_link = document.createElement('div');\n",
              "                        external_link.innerHTML = `\n",
              "                            <div style=\"font-family: monospace; margin-bottom: 0.5rem\">\n",
              "                                Running on <a href=${new URL(path, url).toString()} target=\"_blank\">\n",
              "                                    https://localhost:${port}${path}\n",
              "                                </a>\n",
              "                            </div>\n",
              "                        `;\n",
              "                        element.appendChild(external_link);\n",
              "\n",
              "                        const iframe = document.createElement('iframe');\n",
              "                        iframe.src = new URL(path, url).toString();\n",
              "                        iframe.height = height;\n",
              "                        iframe.allow = \"autoplay; camera; microphone; clipboard-read; clipboard-write;\"\n",
              "                        iframe.width = width;\n",
              "                        iframe.style.border = 0;\n",
              "                        element.appendChild(iframe);\n",
              "                    })(7860, \"/\", \"100%\", 500, false, window.element)"
            ]
          },
          "metadata": {}
        },
        {
          "output_type": "execute_result",
          "data": {
            "text/plain": []
          },
          "metadata": {},
          "execution_count": 2
        }
      ]
    }
  ]
}